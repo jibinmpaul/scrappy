{
  "nbformat": 4,
  "nbformat_minor": 0,
  "metadata": {
    "colab": {
      "name": "JibinMPaul_201053002_EDA_LabInternals.ipynb",
      "provenance": [],
      "collapsed_sections": []
    },
    "kernelspec": {
      "name": "python3",
      "display_name": "Python 3"
    }
  },
  "cells": [
    {
      "cell_type": "code",
      "metadata": {
        "id": "Q54ThhDceill"
      },
      "source": [
        "import pandas as pd\n",
        "import seaborn as sns\n",
        "import matplotlib.pyplot as plt\n",
        "%matplotlib inline"
      ],
      "execution_count": null,
      "outputs": []
    },
    {
      "cell_type": "code",
      "metadata": {
        "colab": {
          "base_uri": "https://localhost:8080/",
          "height": 402
        },
        "id": "2wJ1ixIgew5v",
        "outputId": "b068dc43-bdc8-4ed7-9e87-b35e4df4291e"
      },
      "source": [
        "df = pd.read_csv(\"AmazonMob.csv\")\n",
        "df"
      ],
      "execution_count": null,
      "outputs": [
        {
          "output_type": "execute_result",
          "data": {
            "text/html": [
              "<div>\n",
              "<style scoped>\n",
              "    .dataframe tbody tr th:only-of-type {\n",
              "        vertical-align: middle;\n",
              "    }\n",
              "\n",
              "    .dataframe tbody tr th {\n",
              "        vertical-align: top;\n",
              "    }\n",
              "\n",
              "    .dataframe thead th {\n",
              "        text-align: right;\n",
              "    }\n",
              "</style>\n",
              "<table border=\"1\" class=\"dataframe\">\n",
              "  <thead>\n",
              "    <tr style=\"text-align: right;\">\n",
              "      <th></th>\n",
              "      <th>mobile_deliverytype</th>\n",
              "      <th>mobile_name</th>\n",
              "      <th>mobile_price</th>\n",
              "      <th>mobile_rating</th>\n",
              "    </tr>\n",
              "  </thead>\n",
              "  <tbody>\n",
              "    <tr>\n",
              "      <th>0</th>\n",
              "      <td>NaN</td>\n",
              "      <td>Samsung Galaxy M51 (Electric Blue, 6GB RAM, 12...</td>\n",
              "      <td>22,999</td>\n",
              "      <td>4.0</td>\n",
              "    </tr>\n",
              "    <tr>\n",
              "      <th>1</th>\n",
              "      <td>FREE Delivery by Amazon</td>\n",
              "      <td>Redmi 9 Power (Blazing Blue, 4GB RAM, 64GB Sto...</td>\n",
              "      <td>10,999</td>\n",
              "      <td>3.0</td>\n",
              "    </tr>\n",
              "    <tr>\n",
              "      <th>2</th>\n",
              "      <td>NaN</td>\n",
              "      <td>Samsung Galaxy M31 Prime Edition (Space Black,...</td>\n",
              "      <td>15,999</td>\n",
              "      <td>2.0</td>\n",
              "    </tr>\n",
              "    <tr>\n",
              "      <th>3</th>\n",
              "      <td>FREE Delivery by Amazon</td>\n",
              "      <td>Redmi 9 Power (Mighty Black 4GB RAM 64GB Stora...</td>\n",
              "      <td>10,999</td>\n",
              "      <td>1.0</td>\n",
              "    </tr>\n",
              "    <tr>\n",
              "      <th>4</th>\n",
              "      <td>NaN</td>\n",
              "      <td>Redmi 9 Power (Electric Green, 4GB RAM, 64GB S...</td>\n",
              "      <td>10,999</td>\n",
              "      <td>4.4</td>\n",
              "    </tr>\n",
              "    <tr>\n",
              "      <th>...</th>\n",
              "      <td>...</td>\n",
              "      <td>...</td>\n",
              "      <td>...</td>\n",
              "      <td>...</td>\n",
              "    </tr>\n",
              "    <tr>\n",
              "      <th>920</th>\n",
              "      <td>NaN</td>\n",
              "      <td>Redmi 9 Prime (Mint Green, 4GB RAM, 64GB Stora...</td>\n",
              "      <td>9,499</td>\n",
              "      <td>4.2</td>\n",
              "    </tr>\n",
              "    <tr>\n",
              "      <th>921</th>\n",
              "      <td>FREE Delivery by Amazon</td>\n",
              "      <td>Samsung Galaxy M31s (Mirage Black, 6GB RAM, 12...</td>\n",
              "      <td>17,999</td>\n",
              "      <td>4.1</td>\n",
              "    </tr>\n",
              "    <tr>\n",
              "      <th>922</th>\n",
              "      <td>NaN</td>\n",
              "      <td>Redmi Note 9 Pro Max (Aurora Blue, 6GB RAM, 12...</td>\n",
              "      <td>17,499</td>\n",
              "      <td>4.4</td>\n",
              "    </tr>\n",
              "    <tr>\n",
              "      <th>923</th>\n",
              "      <td>FREE Delivery by Amazon</td>\n",
              "      <td>Redmi Note 9 Pro (Aurora Blue, 4GB RAM, 128GB ...</td>\n",
              "      <td>13,999</td>\n",
              "      <td>4.2</td>\n",
              "    </tr>\n",
              "    <tr>\n",
              "      <th>924</th>\n",
              "      <td>NaN</td>\n",
              "      <td>Samsung Galaxy M51 (Celestial Black, 6GB RAM, ...</td>\n",
              "      <td>22,999</td>\n",
              "      <td>4.3</td>\n",
              "    </tr>\n",
              "  </tbody>\n",
              "</table>\n",
              "<p>925 rows × 4 columns</p>\n",
              "</div>"
            ],
            "text/plain": [
              "         mobile_deliverytype  ... mobile_rating\n",
              "0                        NaN  ...           4.0\n",
              "1    FREE Delivery by Amazon  ...           3.0\n",
              "2                        NaN  ...           2.0\n",
              "3    FREE Delivery by Amazon  ...           1.0\n",
              "4                        NaN  ...           4.4\n",
              "..                       ...  ...           ...\n",
              "920                      NaN  ...           4.2\n",
              "921  FREE Delivery by Amazon  ...           4.1\n",
              "922                      NaN  ...           4.4\n",
              "923  FREE Delivery by Amazon  ...           4.2\n",
              "924                      NaN  ...           4.3\n",
              "\n",
              "[925 rows x 4 columns]"
            ]
          },
          "metadata": {
            "tags": []
          },
          "execution_count": 3
        }
      ]
    },
    {
      "cell_type": "code",
      "metadata": {
        "colab": {
          "base_uri": "https://localhost:8080/"
        },
        "id": "dNArLdYNfVSq",
        "outputId": "c67fcd69-7ed0-405b-8298-210c05e1bea2"
      },
      "source": [
        "# Checking the missing values\n",
        "df.isnull().sum()"
      ],
      "execution_count": null,
      "outputs": [
        {
          "output_type": "execute_result",
          "data": {
            "text/plain": [
              "mobile_deliverytype    481\n",
              "mobile_name              0\n",
              "mobile_price             0\n",
              "mobile_rating            0\n",
              "dtype: int64"
            ]
          },
          "metadata": {
            "tags": []
          },
          "execution_count": 4
        }
      ]
    },
    {
      "cell_type": "code",
      "metadata": {
        "colab": {
          "base_uri": "https://localhost:8080/",
          "height": 402
        },
        "id": "bdHMiwt1ftWJ",
        "outputId": "906260a1-4409-4d04-8c13-1ade51f9a014"
      },
      "source": [
        "#fill No Free delivery it it is null\n",
        "df.mobile_deliverytype.fillna(\"No Free Delivery\", inplace = True)\n",
        "df"
      ],
      "execution_count": null,
      "outputs": [
        {
          "output_type": "execute_result",
          "data": {
            "text/html": [
              "<div>\n",
              "<style scoped>\n",
              "    .dataframe tbody tr th:only-of-type {\n",
              "        vertical-align: middle;\n",
              "    }\n",
              "\n",
              "    .dataframe tbody tr th {\n",
              "        vertical-align: top;\n",
              "    }\n",
              "\n",
              "    .dataframe thead th {\n",
              "        text-align: right;\n",
              "    }\n",
              "</style>\n",
              "<table border=\"1\" class=\"dataframe\">\n",
              "  <thead>\n",
              "    <tr style=\"text-align: right;\">\n",
              "      <th></th>\n",
              "      <th>mobile_deliverytype</th>\n",
              "      <th>mobile_name</th>\n",
              "      <th>mobile_price</th>\n",
              "      <th>mobile_rating</th>\n",
              "    </tr>\n",
              "  </thead>\n",
              "  <tbody>\n",
              "    <tr>\n",
              "      <th>0</th>\n",
              "      <td>No Free Delivery</td>\n",
              "      <td>Samsung Galaxy M51 (Electric Blue, 6GB RAM, 12...</td>\n",
              "      <td>22,999</td>\n",
              "      <td>4.0</td>\n",
              "    </tr>\n",
              "    <tr>\n",
              "      <th>1</th>\n",
              "      <td>FREE Delivery by Amazon</td>\n",
              "      <td>Redmi 9 Power (Blazing Blue, 4GB RAM, 64GB Sto...</td>\n",
              "      <td>10,999</td>\n",
              "      <td>3.0</td>\n",
              "    </tr>\n",
              "    <tr>\n",
              "      <th>2</th>\n",
              "      <td>No Free Delivery</td>\n",
              "      <td>Samsung Galaxy M31 Prime Edition (Space Black,...</td>\n",
              "      <td>15,999</td>\n",
              "      <td>2.0</td>\n",
              "    </tr>\n",
              "    <tr>\n",
              "      <th>3</th>\n",
              "      <td>FREE Delivery by Amazon</td>\n",
              "      <td>Redmi 9 Power (Mighty Black 4GB RAM 64GB Stora...</td>\n",
              "      <td>10,999</td>\n",
              "      <td>1.0</td>\n",
              "    </tr>\n",
              "    <tr>\n",
              "      <th>4</th>\n",
              "      <td>No Free Delivery</td>\n",
              "      <td>Redmi 9 Power (Electric Green, 4GB RAM, 64GB S...</td>\n",
              "      <td>10,999</td>\n",
              "      <td>4.4</td>\n",
              "    </tr>\n",
              "    <tr>\n",
              "      <th>...</th>\n",
              "      <td>...</td>\n",
              "      <td>...</td>\n",
              "      <td>...</td>\n",
              "      <td>...</td>\n",
              "    </tr>\n",
              "    <tr>\n",
              "      <th>920</th>\n",
              "      <td>No Free Delivery</td>\n",
              "      <td>Redmi 9 Prime (Mint Green, 4GB RAM, 64GB Stora...</td>\n",
              "      <td>9,499</td>\n",
              "      <td>4.2</td>\n",
              "    </tr>\n",
              "    <tr>\n",
              "      <th>921</th>\n",
              "      <td>FREE Delivery by Amazon</td>\n",
              "      <td>Samsung Galaxy M31s (Mirage Black, 6GB RAM, 12...</td>\n",
              "      <td>17,999</td>\n",
              "      <td>4.1</td>\n",
              "    </tr>\n",
              "    <tr>\n",
              "      <th>922</th>\n",
              "      <td>No Free Delivery</td>\n",
              "      <td>Redmi Note 9 Pro Max (Aurora Blue, 6GB RAM, 12...</td>\n",
              "      <td>17,499</td>\n",
              "      <td>4.4</td>\n",
              "    </tr>\n",
              "    <tr>\n",
              "      <th>923</th>\n",
              "      <td>FREE Delivery by Amazon</td>\n",
              "      <td>Redmi Note 9 Pro (Aurora Blue, 4GB RAM, 128GB ...</td>\n",
              "      <td>13,999</td>\n",
              "      <td>4.2</td>\n",
              "    </tr>\n",
              "    <tr>\n",
              "      <th>924</th>\n",
              "      <td>No Free Delivery</td>\n",
              "      <td>Samsung Galaxy M51 (Celestial Black, 6GB RAM, ...</td>\n",
              "      <td>22,999</td>\n",
              "      <td>4.3</td>\n",
              "    </tr>\n",
              "  </tbody>\n",
              "</table>\n",
              "<p>925 rows × 4 columns</p>\n",
              "</div>"
            ],
            "text/plain": [
              "         mobile_deliverytype  ... mobile_rating\n",
              "0           No Free Delivery  ...           4.0\n",
              "1    FREE Delivery by Amazon  ...           3.0\n",
              "2           No Free Delivery  ...           2.0\n",
              "3    FREE Delivery by Amazon  ...           1.0\n",
              "4           No Free Delivery  ...           4.4\n",
              "..                       ...  ...           ...\n",
              "920         No Free Delivery  ...           4.2\n",
              "921  FREE Delivery by Amazon  ...           4.1\n",
              "922         No Free Delivery  ...           4.4\n",
              "923  FREE Delivery by Amazon  ...           4.2\n",
              "924         No Free Delivery  ...           4.3\n",
              "\n",
              "[925 rows x 4 columns]"
            ]
          },
          "metadata": {
            "tags": []
          },
          "execution_count": 5
        }
      ]
    },
    {
      "cell_type": "code",
      "metadata": {
        "colab": {
          "base_uri": "https://localhost:8080/"
        },
        "id": "p0U0RJxqiZbW",
        "outputId": "11bd9791-b3fa-440b-df66-6f21946974d5"
      },
      "source": [
        "df.dtypes"
      ],
      "execution_count": null,
      "outputs": [
        {
          "output_type": "execute_result",
          "data": {
            "text/plain": [
              "mobile_deliverytype     object\n",
              "mobile_name             object\n",
              "mobile_price            object\n",
              "mobile_rating          float64\n",
              "dtype: object"
            ]
          },
          "metadata": {
            "tags": []
          },
          "execution_count": 6
        }
      ]
    },
    {
      "cell_type": "code",
      "metadata": {
        "colab": {
          "base_uri": "https://localhost:8080/",
          "height": 402
        },
        "id": "KCa9q-o9ikGg",
        "outputId": "7d30ca0d-0609-44c7-9063-604d9f51e58b"
      },
      "source": [
        "#convert price and rating to numeric\n",
        "df['mobile_price'] = df['mobile_price'].str.replace(\",\",\"\").astype(int)\n",
        "df"
      ],
      "execution_count": null,
      "outputs": [
        {
          "output_type": "execute_result",
          "data": {
            "text/html": [
              "<div>\n",
              "<style scoped>\n",
              "    .dataframe tbody tr th:only-of-type {\n",
              "        vertical-align: middle;\n",
              "    }\n",
              "\n",
              "    .dataframe tbody tr th {\n",
              "        vertical-align: top;\n",
              "    }\n",
              "\n",
              "    .dataframe thead th {\n",
              "        text-align: right;\n",
              "    }\n",
              "</style>\n",
              "<table border=\"1\" class=\"dataframe\">\n",
              "  <thead>\n",
              "    <tr style=\"text-align: right;\">\n",
              "      <th></th>\n",
              "      <th>mobile_deliverytype</th>\n",
              "      <th>mobile_name</th>\n",
              "      <th>mobile_price</th>\n",
              "      <th>mobile_rating</th>\n",
              "    </tr>\n",
              "  </thead>\n",
              "  <tbody>\n",
              "    <tr>\n",
              "      <th>0</th>\n",
              "      <td>No Free Delivery</td>\n",
              "      <td>Samsung Galaxy M51 (Electric Blue, 6GB RAM, 12...</td>\n",
              "      <td>22999</td>\n",
              "      <td>4.0</td>\n",
              "    </tr>\n",
              "    <tr>\n",
              "      <th>1</th>\n",
              "      <td>FREE Delivery by Amazon</td>\n",
              "      <td>Redmi 9 Power (Blazing Blue, 4GB RAM, 64GB Sto...</td>\n",
              "      <td>10999</td>\n",
              "      <td>3.0</td>\n",
              "    </tr>\n",
              "    <tr>\n",
              "      <th>2</th>\n",
              "      <td>No Free Delivery</td>\n",
              "      <td>Samsung Galaxy M31 Prime Edition (Space Black,...</td>\n",
              "      <td>15999</td>\n",
              "      <td>2.0</td>\n",
              "    </tr>\n",
              "    <tr>\n",
              "      <th>3</th>\n",
              "      <td>FREE Delivery by Amazon</td>\n",
              "      <td>Redmi 9 Power (Mighty Black 4GB RAM 64GB Stora...</td>\n",
              "      <td>10999</td>\n",
              "      <td>1.0</td>\n",
              "    </tr>\n",
              "    <tr>\n",
              "      <th>4</th>\n",
              "      <td>No Free Delivery</td>\n",
              "      <td>Redmi 9 Power (Electric Green, 4GB RAM, 64GB S...</td>\n",
              "      <td>10999</td>\n",
              "      <td>4.4</td>\n",
              "    </tr>\n",
              "    <tr>\n",
              "      <th>...</th>\n",
              "      <td>...</td>\n",
              "      <td>...</td>\n",
              "      <td>...</td>\n",
              "      <td>...</td>\n",
              "    </tr>\n",
              "    <tr>\n",
              "      <th>920</th>\n",
              "      <td>No Free Delivery</td>\n",
              "      <td>Redmi 9 Prime (Mint Green, 4GB RAM, 64GB Stora...</td>\n",
              "      <td>9499</td>\n",
              "      <td>4.2</td>\n",
              "    </tr>\n",
              "    <tr>\n",
              "      <th>921</th>\n",
              "      <td>FREE Delivery by Amazon</td>\n",
              "      <td>Samsung Galaxy M31s (Mirage Black, 6GB RAM, 12...</td>\n",
              "      <td>17999</td>\n",
              "      <td>4.1</td>\n",
              "    </tr>\n",
              "    <tr>\n",
              "      <th>922</th>\n",
              "      <td>No Free Delivery</td>\n",
              "      <td>Redmi Note 9 Pro Max (Aurora Blue, 6GB RAM, 12...</td>\n",
              "      <td>17499</td>\n",
              "      <td>4.4</td>\n",
              "    </tr>\n",
              "    <tr>\n",
              "      <th>923</th>\n",
              "      <td>FREE Delivery by Amazon</td>\n",
              "      <td>Redmi Note 9 Pro (Aurora Blue, 4GB RAM, 128GB ...</td>\n",
              "      <td>13999</td>\n",
              "      <td>4.2</td>\n",
              "    </tr>\n",
              "    <tr>\n",
              "      <th>924</th>\n",
              "      <td>No Free Delivery</td>\n",
              "      <td>Samsung Galaxy M51 (Celestial Black, 6GB RAM, ...</td>\n",
              "      <td>22999</td>\n",
              "      <td>4.3</td>\n",
              "    </tr>\n",
              "  </tbody>\n",
              "</table>\n",
              "<p>925 rows × 4 columns</p>\n",
              "</div>"
            ],
            "text/plain": [
              "         mobile_deliverytype  ... mobile_rating\n",
              "0           No Free Delivery  ...           4.0\n",
              "1    FREE Delivery by Amazon  ...           3.0\n",
              "2           No Free Delivery  ...           2.0\n",
              "3    FREE Delivery by Amazon  ...           1.0\n",
              "4           No Free Delivery  ...           4.4\n",
              "..                       ...  ...           ...\n",
              "920         No Free Delivery  ...           4.2\n",
              "921  FREE Delivery by Amazon  ...           4.1\n",
              "922         No Free Delivery  ...           4.4\n",
              "923  FREE Delivery by Amazon  ...           4.2\n",
              "924         No Free Delivery  ...           4.3\n",
              "\n",
              "[925 rows x 4 columns]"
            ]
          },
          "metadata": {
            "tags": []
          },
          "execution_count": 7
        }
      ]
    },
    {
      "cell_type": "code",
      "metadata": {
        "colab": {
          "base_uri": "https://localhost:8080/"
        },
        "id": "ZzCkm6LTjzx6",
        "outputId": "9f14b889-8a3b-499e-eb50-c83de2508726"
      },
      "source": [
        "#df.dtypes"
      ],
      "execution_count": null,
      "outputs": [
        {
          "output_type": "execute_result",
          "data": {
            "text/plain": [
              "mobile_deliverytype     object\n",
              "mobile_name             object\n",
              "mobile_price             int64\n",
              "mobile_rating          float64\n",
              "dtype: object"
            ]
          },
          "metadata": {
            "tags": []
          },
          "execution_count": 8
        }
      ]
    },
    {
      "cell_type": "code",
      "metadata": {
        "id": "EjuiR3z6wAHs"
      },
      "source": [
        "#spiltting the data frame into difeerent manufracutere\n",
        "samsung = df[df['mobile_name'].str.contains(\"Samsung\")]\n",
        "redmi = df[df['mobile_name'].str.contains(\"Redmi\")]"
      ],
      "execution_count": null,
      "outputs": []
    },
    {
      "cell_type": "code",
      "metadata": {
        "colab": {
          "base_uri": "https://localhost:8080/"
        },
        "id": "g2uSFFyGnMN6",
        "outputId": "d50f6d26-95ce-408c-ddbe-480059e02146"
      },
      "source": [
        "#between manufactures\n",
        "lessthan5k = df[df['mobile_price'] < 5000]\n",
        "bet5kand10k = df[df['mobile_price'] >= 5000][df['mobile_price'] < 10000]\n",
        "morethan10k = df[df['mobile_price'] >= 10000]\n",
        "print(bet5kand10k)\n",
        "print(lessthan5k)\n",
        "print(morethan10k)"
      ],
      "execution_count": null,
      "outputs": [
        {
          "output_type": "stream",
          "text": [
            "         mobile_deliverytype  ... mobile_rating\n",
            "5    FREE Delivery by Amazon  ...           3.7\n",
            "12          No Free Delivery  ...           4.2\n",
            "14          No Free Delivery  ...           4.1\n",
            "15   FREE Delivery by Amazon  ...           4.2\n",
            "17   FREE Delivery by Amazon  ...           4.3\n",
            "..                       ...  ...           ...\n",
            "912         No Free Delivery  ...           4.2\n",
            "914         No Free Delivery  ...           4.1\n",
            "915  FREE Delivery by Amazon  ...           4.2\n",
            "917  FREE Delivery by Amazon  ...           4.3\n",
            "920         No Free Delivery  ...           4.2\n",
            "\n",
            "[222 rows x 4 columns]\n",
            "Empty DataFrame\n",
            "Columns: [mobile_deliverytype, mobile_name, mobile_price, mobile_rating]\n",
            "Index: []\n",
            "         mobile_deliverytype  ... mobile_rating\n",
            "0           No Free Delivery  ...           4.0\n",
            "1    FREE Delivery by Amazon  ...           3.0\n",
            "2           No Free Delivery  ...           2.0\n",
            "3    FREE Delivery by Amazon  ...           1.0\n",
            "4           No Free Delivery  ...           4.4\n",
            "..                       ...  ...           ...\n",
            "919  FREE Delivery by Amazon  ...           4.0\n",
            "921  FREE Delivery by Amazon  ...           4.1\n",
            "922         No Free Delivery  ...           4.4\n",
            "923  FREE Delivery by Amazon  ...           4.2\n",
            "924         No Free Delivery  ...           4.3\n",
            "\n",
            "[703 rows x 4 columns]\n"
          ],
          "name": "stdout"
        }
      ]
    },
    {
      "cell_type": "markdown",
      "metadata": {
        "id": "6IltFlvJx2wC"
      },
      "source": [
        "# Inference\n"
      ]
    },
    {
      "cell_type": "markdown",
      "metadata": {
        "id": "6_3vgWSHx7f2"
      },
      "source": [
        "There are No mobile less than 5k <br>\n",
        "There are 222 mobiles between 5k and 10k <br>\n",
        "There are 703 mobiles more than 10k"
      ]
    },
    {
      "cell_type": "code",
      "metadata": {
        "colab": {
          "base_uri": "https://localhost:8080/"
        },
        "id": "xohGUBZAx54U",
        "outputId": "b6c1c5af-158b-4ac3-ad09-00153f1d4b66"
      },
      "source": [
        "#within  manufacturer Samsung\n",
        "lessthan5k = samsung[samsung['mobile_price'] < 5000]\n",
        "bet5kand10k = samsung[samsung['mobile_price'] >= 5000][df['mobile_price'] < 10000]\n",
        "morethan10k = samsung[samsung['mobile_price'] >= 10000]\n",
        "print(bet5kand10k)\n",
        "print(lessthan5k)\n",
        "print(morethan10k)"
      ],
      "execution_count": null,
      "outputs": [
        {
          "output_type": "stream",
          "text": [
            "         mobile_deliverytype  ... mobile_rating\n",
            "17   FREE Delivery by Amazon  ...           4.3\n",
            "42   FREE Delivery by Amazon  ...           4.3\n",
            "67   FREE Delivery by Amazon  ...           4.3\n",
            "92   FREE Delivery by Amazon  ...           4.3\n",
            "117  FREE Delivery by Amazon  ...           4.3\n",
            "142  FREE Delivery by Amazon  ...           4.3\n",
            "167  FREE Delivery by Amazon  ...           4.3\n",
            "192  FREE Delivery by Amazon  ...           4.3\n",
            "217  FREE Delivery by Amazon  ...           4.3\n",
            "242  FREE Delivery by Amazon  ...           4.3\n",
            "267  FREE Delivery by Amazon  ...           4.3\n",
            "292  FREE Delivery by Amazon  ...           4.3\n",
            "317  FREE Delivery by Amazon  ...           4.3\n",
            "342  FREE Delivery by Amazon  ...           4.3\n",
            "367  FREE Delivery by Amazon  ...           4.3\n",
            "392  FREE Delivery by Amazon  ...           4.3\n",
            "417  FREE Delivery by Amazon  ...           4.3\n",
            "442  FREE Delivery by Amazon  ...           4.3\n",
            "467  FREE Delivery by Amazon  ...           4.3\n",
            "492  FREE Delivery by Amazon  ...           4.3\n",
            "517  FREE Delivery by Amazon  ...           4.3\n",
            "542  FREE Delivery by Amazon  ...           4.3\n",
            "567  FREE Delivery by Amazon  ...           4.3\n",
            "592  FREE Delivery by Amazon  ...           4.3\n",
            "617  FREE Delivery by Amazon  ...           4.3\n",
            "642  FREE Delivery by Amazon  ...           4.3\n",
            "667  FREE Delivery by Amazon  ...           4.3\n",
            "692  FREE Delivery by Amazon  ...           4.3\n",
            "717  FREE Delivery by Amazon  ...           4.3\n",
            "742  FREE Delivery by Amazon  ...           4.3\n",
            "767  FREE Delivery by Amazon  ...           4.3\n",
            "792  FREE Delivery by Amazon  ...           4.3\n",
            "817  FREE Delivery by Amazon  ...           4.3\n",
            "842  FREE Delivery by Amazon  ...           4.3\n",
            "867  FREE Delivery by Amazon  ...           4.3\n",
            "892  FREE Delivery by Amazon  ...           4.3\n",
            "917  FREE Delivery by Amazon  ...           4.3\n",
            "\n",
            "[37 rows x 4 columns]\n",
            "Empty DataFrame\n",
            "Columns: [mobile_deliverytype, mobile_name, mobile_price, mobile_rating]\n",
            "Index: []\n",
            "         mobile_deliverytype  ... mobile_rating\n",
            "0           No Free Delivery  ...           4.0\n",
            "2           No Free Delivery  ...           2.0\n",
            "7    FREE Delivery by Amazon  ...           3.7\n",
            "8           No Free Delivery  ...           3.7\n",
            "13   FREE Delivery by Amazon  ...           3.7\n",
            "..                       ...  ...           ...\n",
            "913  FREE Delivery by Amazon  ...           3.7\n",
            "916         No Free Delivery  ...           4.1\n",
            "919  FREE Delivery by Amazon  ...           4.0\n",
            "921  FREE Delivery by Amazon  ...           4.1\n",
            "924         No Free Delivery  ...           4.3\n",
            "\n",
            "[333 rows x 4 columns]\n"
          ],
          "name": "stdout"
        },
        {
          "output_type": "stream",
          "text": [
            "/usr/local/lib/python3.6/dist-packages/ipykernel_launcher.py:3: UserWarning: Boolean Series key will be reindexed to match DataFrame index.\n",
            "  This is separate from the ipykernel package so we can avoid doing imports until\n"
          ],
          "name": "stderr"
        }
      ]
    },
    {
      "cell_type": "markdown",
      "metadata": {
        "id": "LEWCPN_hzFDL"
      },
      "source": [
        "# Inference"
      ]
    },
    {
      "cell_type": "markdown",
      "metadata": {
        "id": "AZ8nQ2g8zHAi"
      },
      "source": [
        "There are No mobile less than 5k <br>\n",
        "There are 37 mobiles between 5k and 10k <br>\n",
        "There are 33 mobiles more than 10k\n",
        "\n"
      ]
    },
    {
      "cell_type": "code",
      "metadata": {
        "colab": {
          "base_uri": "https://localhost:8080/"
        },
        "id": "B5AFxXKwzEKl",
        "outputId": "9618cc84-1472-4dba-c3fe-686cc07e8cf3"
      },
      "source": [
        "#within  manufacturer Redmi\n",
        "lessthan5k = redmi[redmi['mobile_price'] < 5000]\n",
        "bet5kand10k = redmi[redmi['mobile_price'] >= 5000][df['mobile_price'] < 10000]\n",
        "morethan10k = redmi[redmi['mobile_price'] >= 10000]\n",
        "print(bet5kand10k)\n",
        "print(lessthan5k)\n",
        "print(morethan10k)"
      ],
      "execution_count": null,
      "outputs": [
        {
          "output_type": "stream",
          "text": [
            "         mobile_deliverytype  ... mobile_rating\n",
            "5    FREE Delivery by Amazon  ...           3.7\n",
            "12          No Free Delivery  ...           4.2\n",
            "14          No Free Delivery  ...           4.1\n",
            "15   FREE Delivery by Amazon  ...           4.2\n",
            "20          No Free Delivery  ...           4.2\n",
            "..                       ...  ...           ...\n",
            "905  FREE Delivery by Amazon  ...           3.7\n",
            "912         No Free Delivery  ...           4.2\n",
            "914         No Free Delivery  ...           4.1\n",
            "915  FREE Delivery by Amazon  ...           4.2\n",
            "920         No Free Delivery  ...           4.2\n",
            "\n",
            "[185 rows x 4 columns]\n",
            "Empty DataFrame\n",
            "Columns: [mobile_deliverytype, mobile_name, mobile_price, mobile_rating]\n",
            "Index: []\n",
            "         mobile_deliverytype  ... mobile_rating\n",
            "1    FREE Delivery by Amazon  ...           3.0\n",
            "3    FREE Delivery by Amazon  ...           1.0\n",
            "4           No Free Delivery  ...           4.4\n",
            "6           No Free Delivery  ...           4.2\n",
            "9    FREE Delivery by Amazon  ...           4.1\n",
            "..                       ...  ...           ...\n",
            "910         No Free Delivery  ...           4.2\n",
            "911  FREE Delivery by Amazon  ...           4.2\n",
            "918         No Free Delivery  ...           4.1\n",
            "922         No Free Delivery  ...           4.4\n",
            "923  FREE Delivery by Amazon  ...           4.2\n",
            "\n",
            "[370 rows x 4 columns]\n"
          ],
          "name": "stdout"
        },
        {
          "output_type": "stream",
          "text": [
            "/usr/local/lib/python3.6/dist-packages/ipykernel_launcher.py:3: UserWarning: Boolean Series key will be reindexed to match DataFrame index.\n",
            "  This is separate from the ipykernel package so we can avoid doing imports until\n"
          ],
          "name": "stderr"
        }
      ]
    },
    {
      "cell_type": "markdown",
      "metadata": {
        "id": "SoaczhdO0rUt"
      },
      "source": [
        "# Inference"
      ]
    },
    {
      "cell_type": "markdown",
      "metadata": {
        "id": "LxPCpmFCz-C6"
      },
      "source": [
        "There are No mobile less than 5k <br>\n",
        "There are 185 mobiles between 5k and 10k <br>\n",
        "There are 370 mobiles more than 10k"
      ]
    },
    {
      "cell_type": "code",
      "metadata": {
        "colab": {
          "base_uri": "https://localhost:8080/",
          "height": 343
        },
        "id": "Uy4FtzB30EX5",
        "outputId": "761a9aad-2c32-4c46-e50f-ef5025effe5a"
      },
      "source": [
        "# 10 top  rated samsung mobiles\n",
        "samsung.sort_values(by='mobile_rating', ascending=False).head(10)"
      ],
      "execution_count": null,
      "outputs": [
        {
          "output_type": "execute_result",
          "data": {
            "text/html": [
              "<div>\n",
              "<style scoped>\n",
              "    .dataframe tbody tr th:only-of-type {\n",
              "        vertical-align: middle;\n",
              "    }\n",
              "\n",
              "    .dataframe tbody tr th {\n",
              "        vertical-align: top;\n",
              "    }\n",
              "\n",
              "    .dataframe thead th {\n",
              "        text-align: right;\n",
              "    }\n",
              "</style>\n",
              "<table border=\"1\" class=\"dataframe\">\n",
              "  <thead>\n",
              "    <tr style=\"text-align: right;\">\n",
              "      <th></th>\n",
              "      <th>mobile_deliverytype</th>\n",
              "      <th>mobile_name</th>\n",
              "      <th>mobile_price</th>\n",
              "      <th>mobile_rating</th>\n",
              "    </tr>\n",
              "  </thead>\n",
              "  <tbody>\n",
              "    <tr>\n",
              "      <th>924</th>\n",
              "      <td>No Free Delivery</td>\n",
              "      <td>Samsung Galaxy M51 (Celestial Black, 6GB RAM, ...</td>\n",
              "      <td>22999</td>\n",
              "      <td>4.3</td>\n",
              "    </tr>\n",
              "    <tr>\n",
              "      <th>592</th>\n",
              "      <td>FREE Delivery by Amazon</td>\n",
              "      <td>Samsung Galaxy M02s (Blue,4GB RAM, 64GB Storage)</td>\n",
              "      <td>9999</td>\n",
              "      <td>4.3</td>\n",
              "    </tr>\n",
              "    <tr>\n",
              "      <th>517</th>\n",
              "      <td>FREE Delivery by Amazon</td>\n",
              "      <td>Samsung Galaxy M02s (Blue,4GB RAM, 64GB Storage)</td>\n",
              "      <td>9999</td>\n",
              "      <td>4.3</td>\n",
              "    </tr>\n",
              "    <tr>\n",
              "      <th>524</th>\n",
              "      <td>No Free Delivery</td>\n",
              "      <td>Samsung Galaxy M51 (Celestial Black, 6GB RAM, ...</td>\n",
              "      <td>22999</td>\n",
              "      <td>4.3</td>\n",
              "    </tr>\n",
              "    <tr>\n",
              "      <th>199</th>\n",
              "      <td>No Free Delivery</td>\n",
              "      <td>Samsung Galaxy M51 (Celestial Black, 6GB RAM, ...</td>\n",
              "      <td>22999</td>\n",
              "      <td>4.3</td>\n",
              "    </tr>\n",
              "    <tr>\n",
              "      <th>542</th>\n",
              "      <td>FREE Delivery by Amazon</td>\n",
              "      <td>Samsung Galaxy M02s (Blue,4GB RAM, 64GB Storage)</td>\n",
              "      <td>9999</td>\n",
              "      <td>4.3</td>\n",
              "    </tr>\n",
              "    <tr>\n",
              "      <th>192</th>\n",
              "      <td>FREE Delivery by Amazon</td>\n",
              "      <td>Samsung Galaxy M02s (Blue,4GB RAM, 64GB Storage)</td>\n",
              "      <td>9999</td>\n",
              "      <td>4.3</td>\n",
              "    </tr>\n",
              "    <tr>\n",
              "      <th>549</th>\n",
              "      <td>No Free Delivery</td>\n",
              "      <td>Samsung Galaxy M51 (Celestial Black, 6GB RAM, ...</td>\n",
              "      <td>22999</td>\n",
              "      <td>4.3</td>\n",
              "    </tr>\n",
              "    <tr>\n",
              "      <th>567</th>\n",
              "      <td>FREE Delivery by Amazon</td>\n",
              "      <td>Samsung Galaxy M02s (Blue,4GB RAM, 64GB Storage)</td>\n",
              "      <td>9999</td>\n",
              "      <td>4.3</td>\n",
              "    </tr>\n",
              "    <tr>\n",
              "      <th>574</th>\n",
              "      <td>No Free Delivery</td>\n",
              "      <td>Samsung Galaxy M51 (Celestial Black, 6GB RAM, ...</td>\n",
              "      <td>22999</td>\n",
              "      <td>4.3</td>\n",
              "    </tr>\n",
              "  </tbody>\n",
              "</table>\n",
              "</div>"
            ],
            "text/plain": [
              "         mobile_deliverytype  ... mobile_rating\n",
              "924         No Free Delivery  ...           4.3\n",
              "592  FREE Delivery by Amazon  ...           4.3\n",
              "517  FREE Delivery by Amazon  ...           4.3\n",
              "524         No Free Delivery  ...           4.3\n",
              "199         No Free Delivery  ...           4.3\n",
              "542  FREE Delivery by Amazon  ...           4.3\n",
              "192  FREE Delivery by Amazon  ...           4.3\n",
              "549         No Free Delivery  ...           4.3\n",
              "567  FREE Delivery by Amazon  ...           4.3\n",
              "574         No Free Delivery  ...           4.3\n",
              "\n",
              "[10 rows x 4 columns]"
            ]
          },
          "metadata": {
            "tags": []
          },
          "execution_count": 15
        }
      ]
    },
    {
      "cell_type": "markdown",
      "metadata": {
        "id": "A5p6HIqV09Pr"
      },
      "source": [
        "**these are the  10 top rated samsung mobiles**"
      ]
    },
    {
      "cell_type": "code",
      "metadata": {
        "colab": {
          "base_uri": "https://localhost:8080/",
          "height": 343
        },
        "id": "1ayvDDzV1Khs",
        "outputId": "b2d221ea-4e7f-41d7-ad4c-9fb9c3a05525"
      },
      "source": [
        "# 10 top  rated redmi mobiles\n",
        "redmi.sort_values(by='mobile_rating', ascending=False).head(10)"
      ],
      "execution_count": null,
      "outputs": [
        {
          "output_type": "execute_result",
          "data": {
            "text/html": [
              "<div>\n",
              "<style scoped>\n",
              "    .dataframe tbody tr th:only-of-type {\n",
              "        vertical-align: middle;\n",
              "    }\n",
              "\n",
              "    .dataframe tbody tr th {\n",
              "        vertical-align: top;\n",
              "    }\n",
              "\n",
              "    .dataframe thead th {\n",
              "        text-align: right;\n",
              "    }\n",
              "</style>\n",
              "<table border=\"1\" class=\"dataframe\">\n",
              "  <thead>\n",
              "    <tr style=\"text-align: right;\">\n",
              "      <th></th>\n",
              "      <th>mobile_deliverytype</th>\n",
              "      <th>mobile_name</th>\n",
              "      <th>mobile_price</th>\n",
              "      <th>mobile_rating</th>\n",
              "    </tr>\n",
              "  </thead>\n",
              "  <tbody>\n",
              "    <tr>\n",
              "      <th>604</th>\n",
              "      <td>No Free Delivery</td>\n",
              "      <td>Redmi 9 Power (Electric Green, 4GB RAM, 64GB S...</td>\n",
              "      <td>10999</td>\n",
              "      <td>4.4</td>\n",
              "    </tr>\n",
              "    <tr>\n",
              "      <th>304</th>\n",
              "      <td>No Free Delivery</td>\n",
              "      <td>Redmi 9 Power (Electric Green, 4GB RAM, 64GB S...</td>\n",
              "      <td>10999</td>\n",
              "      <td>4.4</td>\n",
              "    </tr>\n",
              "    <tr>\n",
              "      <th>772</th>\n",
              "      <td>No Free Delivery</td>\n",
              "      <td>Redmi Note 9 Pro Max (Aurora Blue, 6GB RAM, 12...</td>\n",
              "      <td>17499</td>\n",
              "      <td>4.4</td>\n",
              "    </tr>\n",
              "    <tr>\n",
              "      <th>672</th>\n",
              "      <td>No Free Delivery</td>\n",
              "      <td>Redmi Note 9 Pro Max (Aurora Blue, 6GB RAM, 12...</td>\n",
              "      <td>17499</td>\n",
              "      <td>4.4</td>\n",
              "    </tr>\n",
              "    <tr>\n",
              "      <th>779</th>\n",
              "      <td>No Free Delivery</td>\n",
              "      <td>Redmi 9 Power (Electric Green, 4GB RAM, 64GB S...</td>\n",
              "      <td>10999</td>\n",
              "      <td>4.4</td>\n",
              "    </tr>\n",
              "    <tr>\n",
              "      <th>104</th>\n",
              "      <td>No Free Delivery</td>\n",
              "      <td>Redmi 9 Power (Electric Green, 4GB RAM, 64GB S...</td>\n",
              "      <td>10999</td>\n",
              "      <td>4.4</td>\n",
              "    </tr>\n",
              "    <tr>\n",
              "      <th>179</th>\n",
              "      <td>No Free Delivery</td>\n",
              "      <td>Redmi 9 Power (Electric Green, 4GB RAM, 64GB S...</td>\n",
              "      <td>10999</td>\n",
              "      <td>4.4</td>\n",
              "    </tr>\n",
              "    <tr>\n",
              "      <th>479</th>\n",
              "      <td>No Free Delivery</td>\n",
              "      <td>Redmi 9 Power (Electric Green, 4GB RAM, 64GB S...</td>\n",
              "      <td>10999</td>\n",
              "      <td>4.4</td>\n",
              "    </tr>\n",
              "    <tr>\n",
              "      <th>97</th>\n",
              "      <td>No Free Delivery</td>\n",
              "      <td>Redmi Note 9 Pro Max (Aurora Blue, 6GB RAM, 12...</td>\n",
              "      <td>17499</td>\n",
              "      <td>4.4</td>\n",
              "    </tr>\n",
              "    <tr>\n",
              "      <th>472</th>\n",
              "      <td>No Free Delivery</td>\n",
              "      <td>Redmi Note 9 Pro Max (Aurora Blue, 6GB RAM, 12...</td>\n",
              "      <td>17499</td>\n",
              "      <td>4.4</td>\n",
              "    </tr>\n",
              "  </tbody>\n",
              "</table>\n",
              "</div>"
            ],
            "text/plain": [
              "    mobile_deliverytype  ... mobile_rating\n",
              "604    No Free Delivery  ...           4.4\n",
              "304    No Free Delivery  ...           4.4\n",
              "772    No Free Delivery  ...           4.4\n",
              "672    No Free Delivery  ...           4.4\n",
              "779    No Free Delivery  ...           4.4\n",
              "104    No Free Delivery  ...           4.4\n",
              "179    No Free Delivery  ...           4.4\n",
              "479    No Free Delivery  ...           4.4\n",
              "97     No Free Delivery  ...           4.4\n",
              "472    No Free Delivery  ...           4.4\n",
              "\n",
              "[10 rows x 4 columns]"
            ]
          },
          "metadata": {
            "tags": []
          },
          "execution_count": 16
        }
      ]
    },
    {
      "cell_type": "markdown",
      "metadata": {
        "id": "LU84pt6Z1c5P"
      },
      "source": [
        "**these are the 10 top rated redmi mobiles**"
      ]
    }
  ]
}